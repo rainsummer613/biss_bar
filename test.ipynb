{
 "cells": [
  {
   "cell_type": "code",
   "execution_count": 1,
   "metadata": {},
   "outputs": [],
   "source": [
    "import pandas as pd\n",
    "from kmer_model import Bacteria\n",
    "\n",
    "#df = pd.read_csv('file.csv', encoding='utf-8')"
   ]
  },
  {
   "cell_type": "code",
   "execution_count": null,
   "metadata": {},
   "outputs": [],
   "source": []
  },
  {
   "cell_type": "code",
   "execution_count": 2,
   "metadata": {},
   "outputs": [],
   "source": [
    "url_gen = 'https://ftp.ncbi.nlm.nih.gov/genomes/all/GCF/016/724/805/GCF_016724805.1_ASM1672480v1/GCF_016724805.1_ASM1672480v1_genomic.fna.gz'\n",
    "url_prot = 'https://ftp.uniprot.org/pub/databases/uniprot/current_release/knowledgebase/reference_proteomes/Bacteria/UP000005835/UP000005835_742823.fasta.gz'\n",
    "\n",
    "bacteria = Bacteria(name='Sutterella wadsworthensis', url_prot=url_prot, url_gen=url_gen)"
   ]
  },
  {
   "cell_type": "code",
   "execution_count": 3,
   "metadata": {},
   "outputs": [],
   "source": [
    "bacteria.get_kmers_gen()"
   ]
  },
  {
   "cell_type": "code",
   "execution_count": 4,
   "metadata": {},
   "outputs": [],
   "source": [
    "bacteria.get_kmers_prot()"
   ]
  },
  {
   "cell_type": "code",
   "execution_count": null,
   "metadata": {},
   "outputs": [],
   "source": []
  },
  {
   "cell_type": "code",
   "execution_count": null,
   "metadata": {},
   "outputs": [],
   "source": []
  },
  {
   "cell_type": "code",
   "execution_count": null,
   "metadata": {},
   "outputs": [],
   "source": []
  },
  {
   "cell_type": "code",
   "execution_count": null,
   "metadata": {},
   "outputs": [],
   "source": []
  },
  {
   "cell_type": "code",
   "execution_count": null,
   "metadata": {},
   "outputs": [],
   "source": []
  },
  {
   "cell_type": "code",
   "execution_count": null,
   "metadata": {},
   "outputs": [],
   "source": [
    "all_gen, all_prot = {}, {}\n",
    "corpus_gen, corpus_prot = [], []\n",
    "\n",
    "for i in range(df.shape[0]):\n",
    "    bact_name = df['bact'][i]\n",
    "    bacteria = Bacteria(bact_name, df['gen'][i], df['prot'][i])\n",
    "    bacteria.get_kmers_gen()\n",
    "    bacteria.get_kmers_prot()\n",
    "    \n",
    "    all_gen[bact_name] = bacteria.gen_dict\n",
    "    all_prot[bact_name] = bacteria.prot_dict\n",
    "    \n",
    "    corpus_gen.append(' '.join(bacteria.kmers_gen['all']))\n",
    "    corpus_prot.append(' '.join(bacteria.kmers_prot['all']))"
   ]
  },
  {
   "cell_type": "code",
   "execution_count": null,
   "metadata": {},
   "outputs": [],
   "source": []
  },
  {
   "cell_type": "code",
   "execution_count": null,
   "metadata": {},
   "outputs": [],
   "source": [
    "from sklearn.feature_extraction.text import TfidfVectorizer\n",
    "\n",
    "vectorizer = TfidfVectorizer(min_df=30, max_df=2000)\n",
    "vectorizer.fit_transform(corpus_gen)"
   ]
  },
  {
   "cell_type": "code",
   "execution_count": null,
   "metadata": {},
   "outputs": [],
   "source": [
    "from gensim.models import FastText\n",
    "\n",
    "model = FastText(vector_size=50, window=3, min_count=1)\n",
    "corpus = []\n",
    "\n",
    "for bact in all_gen:\n",
    "    kmer_text = []\n",
    "    for gen in all_gen[bact]:\n",
    "        kmer_text.append(getKmers(all_gen[bact][gen], 10, 10)) #extend\n",
    "    corpus.append(kmer_text)\n",
    "    \n",
    "model.build_vocab(sentences=corpus)\n",
    "model.train(sentences=corpus, total_examples=len(corpus), epochs=20)"
   ]
  },
  {
   "cell_type": "code",
   "execution_count": null,
   "metadata": {},
   "outputs": [],
   "source": []
  },
  {
   "cell_type": "code",
   "execution_count": null,
   "metadata": {},
   "outputs": [],
   "source": []
  },
  {
   "cell_type": "code",
   "execution_count": 137,
   "metadata": {},
   "outputs": [],
   "source": [
    "kmer_len_gen = 30\n",
    "filename_gen = 'C://Users/User/Downloads/GCF_009721605.1_ASM972160v1_genomic.fna'\n",
    "\n",
    "gen_dict = {rec.id: str(rec.seq) for rec in SeqIO.parse(filename_gen, 'fasta')}\n",
    "kmers_gen = {k: list(getKmers(gen_dict[k], kmer_len_gen, 1)) for k in gen_dict}\n",
    "kmers_gen['all'] = sum(list(kmers_gen.values()), [])\n",
    "    \n",
    "kmers_gen_counter = {k: Counter(v) for k,v in kmers_gen.items()}"
   ]
  },
  {
   "cell_type": "code",
   "execution_count": null,
   "metadata": {},
   "outputs": [],
   "source": []
  },
  {
   "cell_type": "code",
   "execution_count": null,
   "metadata": {},
   "outputs": [],
   "source": []
  },
  {
   "cell_type": "code",
   "execution_count": null,
   "metadata": {},
   "outputs": [],
   "source": []
  },
  {
   "cell_type": "code",
   "execution_count": null,
   "metadata": {},
   "outputs": [],
   "source": []
  }
 ],
 "metadata": {
  "kernelspec": {
   "display_name": "Python 3",
   "language": "python",
   "name": "python3"
  },
  "language_info": {
   "codemirror_mode": {
    "name": "ipython",
    "version": 3
   },
   "file_extension": ".py",
   "mimetype": "text/x-python",
   "name": "python",
   "nbconvert_exporter": "python",
   "pygments_lexer": "ipython3",
   "version": "3.7.1"
  }
 },
 "nbformat": 4,
 "nbformat_minor": 4
}
